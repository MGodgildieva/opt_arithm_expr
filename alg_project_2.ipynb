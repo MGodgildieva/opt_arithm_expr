{
 "cells": [
  {
   "cell_type": "code",
   "execution_count": 1,
   "metadata": {},
   "outputs": [],
   "source": [
    "import numpy as np\n",
    "import itertools\n",
    "from itertools import cycle, islice\n",
    "import operator"
   ]
  },
  {
   "cell_type": "markdown",
   "metadata": {},
   "source": [
    "Function to put brackets around left and right parts of the expression (only if the length of the part is more than 1)."
   ]
  },
  {
   "cell_type": "code",
   "execution_count": 161,
   "metadata": {},
   "outputs": [],
   "source": [
    "def put_brackets(left_part, right_part, operator):\n",
    "    if len(left_part)> 1 and len(right_part) > 1:\n",
    "        return \"(\"+left_part+\")\"+operator+\"(\"+right_part+\")\"\n",
    "    if len(left_part)> 1 and len(right_part) == 1:\n",
    "        return \"(\"+left_part+\")\"+operator+right_part\n",
    "    if len(left_part)== 1 and len(right_part) > 1:\n",
    "        return left_part+operator+\"(\"+right_part+\")\"\n",
    "    if len(left_part)== 1 and len(right_part) == 1:\n",
    "        return left_part+operator+right_part"
   ]
  },
  {
   "cell_type": "markdown",
   "metadata": {},
   "source": [
    "Minimizing recursive function"
   ]
  },
  {
   "cell_type": "code",
   "execution_count": 192,
   "metadata": {},
   "outputs": [],
   "source": [
    "def minimize(expr):\n",
    "    # base case\n",
    "    if len(expr)==1:\n",
    "        if expr.isdigit():\n",
    "            return int(expr), expr\n",
    "        else:\n",
    "            return \"Invalid symbol\"\n",
    "    #variable to put final result. It is infinity in the beginning to be sure that at first comparison\n",
    "    #between res and our expression result, res would be overwritten.\n",
    "    res = np.inf\n",
    "    #variable to put our final expression as string with brackets\n",
    "    final_expr = \"\"\n",
    "    # iterating over the expression, looking for operators\n",
    "    for i in range(len(expr) - 1):\n",
    "        if expr[i] == '+':\n",
    "            #expression before operator\n",
    "            left_expr = expr[:i]\n",
    "            #expression after operator\n",
    "            right_expr = expr[i + 1 :len(expr)]\n",
    "            #computing their values by recursively calling the minimize function\n",
    "            left_value, left_part = minimize(left_expr)\n",
    "            right_value, right_part = minimize(right_expr)\n",
    "            # if the sum of values is less than our minimal result before, this solution becomes new minimal result\n",
    "            if left_value + right_value < res:\n",
    "                res = left_value + right_value\n",
    "                final_expr = put_brackets(left_part, right_part, expr[i])\n",
    "        if expr[i] == '*':\n",
    "            left_expr = expr[:i]\n",
    "            right_expr = expr[i + 1 :len(expr)]\n",
    "            left_value, left_part = minimize(left_expr)\n",
    "            right_value, right_part = minimize(right_expr)\n",
    "            if left_value * right_value < res:\n",
    "                res = left_value * right_value\n",
    "                final_expr = put_brackets(left_part, right_part, expr[i])\n",
    "        if expr[i] == '-':\n",
    "            left_expr = expr[:i]\n",
    "            right_expr = expr[i + 1 :len(expr)]\n",
    "            left_value, left_part = minimize(left_expr)\n",
    "            right_value, right_part = minimize(right_expr)\n",
    "            if left_value - right_value < res:\n",
    "                res = left_value - right_value\n",
    "                final_expr = put_brackets(left_part, right_part, expr[i])\n",
    "        if expr[i] == '/':\n",
    "            left_expr = expr[:i]\n",
    "            right_expr = expr[i + 1 :len(expr)]\n",
    "            left_value, left_part = minimize(left_expr)\n",
    "            right_value, right_part = minimize(right_expr)\n",
    "            #preventing division by zero\n",
    "            if right_value != 0:\n",
    "                if left_value / right_value < res:\n",
    "                    res = left_value / right_value\n",
    "                    final_expr = put_brackets(left_part, right_part, expr[i])\n",
    "    return res, final_expr"
   ]
  },
  {
   "cell_type": "code",
   "execution_count": 181,
   "metadata": {},
   "outputs": [
    {
     "data": {
      "text/plain": [
       "(-7.0, '1*(3-(2*(5/1)))')"
      ]
     },
     "execution_count": 181,
     "metadata": {},
     "output_type": "execute_result"
    }
   ],
   "source": [
    "minimize(\"1*3-2*5/1\")"
   ]
  },
  {
   "cell_type": "markdown",
   "metadata": {},
   "source": [
    "Maximizing recursive function that works exactly as the minimizing one only the other way around."
   ]
  },
  {
   "cell_type": "code",
   "execution_count": 190,
   "metadata": {},
   "outputs": [],
   "source": [
    "def maximize (expr):\n",
    "    if len(expr)==1:\n",
    "        if expr.isdigit():\n",
    "            return int(expr), expr\n",
    "        else:\n",
    "            return \"Invalid symbol\"\n",
    "    res = np.NINF\n",
    "    final_expr = \"\"\n",
    "    for i in range(len(expr) - 1):\n",
    "        left_expr, right_expr = \"\", \"\"\n",
    "        if expr[i] == '+':\n",
    "            left_expr = expr[:i]\n",
    "            right_expr = expr[i + 1 :len(expr)]\n",
    "            left_value, left_part = maximize(left_expr)\n",
    "            right_value, right_part = maximize(right_expr)\n",
    "            if left_value + right_value > res:\n",
    "                res = left_value + right_value\n",
    "                final_expr = put_brackets(left_part, right_part, expr[i])\n",
    "        if expr[i] == '*':\n",
    "            left_expr = expr[:i]\n",
    "            right_expr = expr[i + 1 :len(expr)]\n",
    "            left_value, left_part = maximize(left_expr)\n",
    "            right_value, right_part = maximize(right_expr)\n",
    "            if left_value * right_value > res:\n",
    "                res = left_value * right_value\n",
    "                final_expr = put_brackets(left_part, right_part, expr[i])\n",
    "        if expr[i] == '-':\n",
    "            left_expr = expr[:i]\n",
    "            right_expr = expr[i + 1 :len(expr)]\n",
    "            left_value, left_part = maximize(left_expr)\n",
    "            right_value, right_part = maximize(right_expr)\n",
    "            if left_value - right_value > res:\n",
    "                res = left_value - right_value\n",
    "                final_expr = put_brackets(left_part, right_part, expr[i])\n",
    "        if expr[i] == '/':\n",
    "            left_expr = expr[:i]\n",
    "            right_expr = expr[i + 1 :len(expr)]\n",
    "            left_value, left_part = maximize(left_expr)\n",
    "            right_value, right_part = maximize(right_expr)\n",
    "            if right_value != 0:\n",
    "                if left_value / right_value > res:\n",
    "                    res = left_value / right_value\n",
    "                    final_expr = put_brackets(left_part, right_part, expr[i])\n",
    "    return res, final_expr"
   ]
  },
  {
   "cell_type": "code",
   "execution_count": 183,
   "metadata": {},
   "outputs": [
    {
     "data": {
      "text/plain": [
       "(5.0, '1*((3-2)*(5/1))')"
      ]
     },
     "execution_count": 183,
     "metadata": {},
     "output_type": "execute_result"
    }
   ],
   "source": [
    "maximize('1*3-2*5/1')"
   ]
  },
  {
   "cell_type": "markdown",
   "metadata": {},
   "source": [
    "Function that takes a list of numbers and list of operators and returns all possible combinations of operators that can be between these numbers with possible repetitions."
   ]
  },
  {
   "cell_type": "code",
   "execution_count": 184,
   "metadata": {},
   "outputs": [],
   "source": [
    "def put_operators(numbers, operators):\n",
    "    oper_nr = len(numbers)-1\n",
    "    opers = list(itertools.product(operators, repeat=oper_nr))\n",
    "    return opers"
   ]
  },
  {
   "cell_type": "code",
   "execution_count": 185,
   "metadata": {},
   "outputs": [
    {
     "data": {
      "text/plain": [
       "[('*', '*', '*'),\n",
       " ('*', '*', '+'),\n",
       " ('*', '+', '*'),\n",
       " ('*', '+', '+'),\n",
       " ('+', '*', '*'),\n",
       " ('+', '*', '+'),\n",
       " ('+', '+', '*'),\n",
       " ('+', '+', '+')]"
      ]
     },
     "execution_count": 185,
     "metadata": {},
     "output_type": "execute_result"
    }
   ],
   "source": [
    "put_operators([1, 2, 3, 4], ['*', '+'])"
   ]
  },
  {
   "cell_type": "markdown",
   "metadata": {},
   "source": [
    "From https://docs.python.org/2/library/itertools.html"
   ]
  },
  {
   "cell_type": "code",
   "execution_count": 10,
   "metadata": {},
   "outputs": [],
   "source": [
    "def roundrobin(*iterables):\n",
    "    \"roundrobin('ABC', 'D', 'EF') --> A D E B F C\"\n",
    "    # Recipe credited to George Sakkis\n",
    "    num_active = len(iterables)\n",
    "    nexts = cycle(iter(it).__next__ for it in iterables)\n",
    "    while num_active:\n",
    "        try:\n",
    "            for next in nexts:\n",
    "                yield next()\n",
    "        except StopIteration:\n",
    "            # Remove the iterator we just exhausted from the cycle.\n",
    "            num_active -= 1\n",
    "            nexts = cycle(islice(nexts, num_active))"
   ]
  },
  {
   "cell_type": "markdown",
   "metadata": {},
   "source": [
    "The final function that takes numbers, possible operators and maximize/minimize function as arguments and returns the maximal/minimal result and how it was achieved."
   ]
  },
  {
   "cell_type": "code",
   "execution_count": 193,
   "metadata": {},
   "outputs": [],
   "source": [
    "def put_operators_final(numbers, operators, func):\n",
    "    results={}\n",
    "    #possible operators' combinations with repetitions\n",
    "    opers = put_operators(numbers, operators)\n",
    "    for oper in opers:\n",
    "        #creating a possible expression preserving numbers' order\n",
    "        str_expr = ''.join(str(e) for e in roundrobin(numbers, oper))\n",
    "        #saving expression as dictionary key with its result as value\n",
    "        results[str_expr] = func(str_expr)\n",
    "    if func == maximize:\n",
    "        #looking for max result\n",
    "        key = max(results, key=lambda k: results[k][0])\n",
    "    if func == minimize:\n",
    "        #looking for min result\n",
    "        key = min(results, key=lambda k: results[k][0])\n",
    "    return results[key]"
   ]
  },
  {
   "cell_type": "code",
   "execution_count": 194,
   "metadata": {},
   "outputs": [
    {
     "data": {
      "text/plain": [
       "(-119, '1-(2*(3*(4*5)))')"
      ]
     },
     "execution_count": 194,
     "metadata": {},
     "output_type": "execute_result"
    }
   ],
   "source": [
    "put_operators_final([1, 2, 3, 4, 5], ['*', '+', '-', '/'], minimize)"
   ]
  },
  {
   "cell_type": "code",
   "execution_count": 195,
   "metadata": {},
   "outputs": [
    {
     "data": {
      "text/plain": [
       "(315, '(2+1)*(7*((1+4)*3))')"
      ]
     },
     "execution_count": 195,
     "metadata": {},
     "output_type": "execute_result"
    }
   ],
   "source": [
    "put_operators_final([2, 1, 7, 1, 4, 3], ['*', '+'], maximize)"
   ]
  },
  {
   "cell_type": "code",
   "execution_count": null,
   "metadata": {},
   "outputs": [],
   "source": []
  }
 ],
 "metadata": {
  "kernelspec": {
   "display_name": "Python 3",
   "language": "python",
   "name": "python3"
  },
  "language_info": {
   "codemirror_mode": {
    "name": "ipython",
    "version": 3
   },
   "file_extension": ".py",
   "mimetype": "text/x-python",
   "name": "python",
   "nbconvert_exporter": "python",
   "pygments_lexer": "ipython3",
   "version": "3.6.5"
  }
 },
 "nbformat": 4,
 "nbformat_minor": 2
}
