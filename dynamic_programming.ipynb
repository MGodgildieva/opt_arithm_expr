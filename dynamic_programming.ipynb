{
 "cells": [
  {
   "cell_type": "code",
   "execution_count": 1,
   "metadata": {},
   "outputs": [],
   "source": [
    "import numpy as np"
   ]
  },
  {
   "cell_type": "markdown",
   "metadata": {},
   "source": [
    "A function for maximization of an arithmetical expression uzing Bellman's optimality principle . See [link](https://neerc.ifmo.ru/wiki/index.php?title=%D0%97%D0%B0%D0%B4%D0%B0%D1%87%D0%B0_%D0%BE_%D1%80%D0%B0%D1%81%D1%81%D1%82%D0%B0%D0%BD%D0%BE%D0%B2%D0%BA%D0%B5_%D0%B7%D0%BD%D0%B0%D0%BA%D0%BE%D0%B2_%D0%B2_%D0%B2%D1%8B%D1%80%D0%B0%D0%B6%D0%B5%D0%BD%D0%B8%D0%B8)"
   ]
  },
  {
   "cell_type": "code",
   "execution_count": 400,
   "metadata": {},
   "outputs": [],
   "source": [
    "def get_result(current, e,result_expr,index_table, operators):\n",
    "    if len(current) == 1:\n",
    "        return result_expr\n",
    "    l = current[0][1]\n",
    "    r = current[len(current) - 1][1]\n",
    "    result_expr.insert(result_expr.index(current[0]),'(')\n",
    "    result_expr.insert(result_expr.index(current[len(current) - 1])+1,')')\n",
    "    index = index_table[l,r]\n",
    "    operator = operators[l,r]\n",
    "    index_result = result_expr.index(e[index])\n",
    "    result_expr.insert(index_result+1,operator)\n",
    "    get_result(e[l:index+1],e, result_expr,index_table,operators)\n",
    "    get_result(e[index+1:r+1], e, result_expr,index_table,operators)\n",
    "    return result_expr  "
   ]
  },
  {
   "cell_type": "code",
   "execution_count": 405,
   "metadata": {},
   "outputs": [],
   "source": [
    "# maximization of an expression expr with dynamic programming\n",
    "def dynamic_maximize(expr):\n",
    "    n = len(expr)\n",
    "    d = np.zeros((n,n), dtype = int)\n",
    "    index_table = np.zeros((n,n), dtype = int)\n",
    "    operators = np.zeros((n,n), dtype = str)\n",
    "    for i in range(n):\n",
    "        d[i,i] = expr[i]\n",
    "    for i in range(n-2,-1,-1):\n",
    "        for j in range(i+1,n):\n",
    "            for k in range(i,j):\n",
    "                \n",
    "                d_current = max(d[i,k]+d[k+1,j],d[i,k]*d[k+1,j])\n",
    "                if d[i,j] < d_current:\n",
    "                    d[i,j] = d_current\n",
    "                    index_table[i,j] = k\n",
    "                    if d[i,k]*d[k+1,j] >= d[i,k]+d[k+1,j]:\n",
    "                        operators[i,j] = '*'\n",
    "                    else:\n",
    "                        operators[i,j] = '+' \n",
    "                \n",
    "                #d[i,j] = max(d[i,j],max(d[i,k]+d[k+1,j],d[i,k]*d[k+1,j]))\n",
    "    e = []\n",
    "    n = len(expr)\n",
    "    for i in range(n):\n",
    "        e.append((expr[i],i))\n",
    "    result_expr = e[:]\n",
    "    result = get_result(e[:], e,result_expr,index_table,operators)\n",
    "    res = [x[0] if type(x) is tuple else x for x in result]\n",
    "    print(''.join(str(i) for i in res),'=',d[0,n-1])"
   ]
  },
  {
   "cell_type": "code",
   "execution_count": 406,
   "metadata": {},
   "outputs": [
    {
     "name": "stdout",
     "output_type": "stream",
     "text": [
      "((2+1)*(7*((1+4)*3))) = 315\n"
     ]
    }
   ],
   "source": [
    "dynamic_maximize([2,1,7,1,4,3])"
   ]
  },
  {
   "cell_type": "code",
   "execution_count": 418,
   "metadata": {},
   "outputs": [],
   "source": [
    "# minimization of an expression expr with dynamic programming\n",
    "def dynamic_minimize(expr):\n",
    "    n = len(expr)\n",
    "    d = np.zeros((n,n), dtype = int)\n",
    "    index_table = np.zeros((n,n), dtype = int)\n",
    "    operators = np.zeros((n,n), dtype = str)\n",
    "    for i in range(n):\n",
    "        d[i,i] = expr[i]\n",
    "    for i in range(n-2,-1,-1):\n",
    "        for j in range(i+1,n):\n",
    "            for k in range(i,j):\n",
    "                d_current = min(d[i,k]+d[k+1,j],d[i,k]*d[k+1,j])\n",
    "                if d[i,j] > d_current or d[i,j] ==0:\n",
    "                    d[i,j] = d_current\n",
    "                    index_table[i,j] = k\n",
    "                    if d[i,k]*d[k+1,j] < d[i,k]+d[k+1,j]:\n",
    "                        operators[i,j] = '*'\n",
    "                    else:\n",
    "                        operators[i,j] = '+' \n",
    "    e = []\n",
    "    n = len(expr)\n",
    "    for i in range(n):\n",
    "        e.append((expr[i],i))\n",
    "    result_expr = e[:]\n",
    "    result = get_result(e[:], e,result_expr,index_table,operators)\n",
    "    res = [x[0] if type(x) is tuple else x for x in result]\n",
    "    print(''.join(str(i) for i in res),'=',d[0,n-1])        "
   ]
  },
  {
   "cell_type": "code",
   "execution_count": 419,
   "metadata": {},
   "outputs": [
    {
     "name": "stdout",
     "output_type": "stream",
     "text": [
      "(2+(1*(7+(1*(4+3))))) = 16\n"
     ]
    }
   ],
   "source": [
    "dynamic_minimize([2,1,7,1,4,3])"
   ]
  }
 ],
 "metadata": {
  "kernelspec": {
   "display_name": "Python 3",
   "language": "python",
   "name": "python3"
  },
  "language_info": {
   "codemirror_mode": {
    "name": "ipython",
    "version": 3
   },
   "file_extension": ".py",
   "mimetype": "text/x-python",
   "name": "python",
   "nbconvert_exporter": "python",
   "pygments_lexer": "ipython3",
   "version": "3.6.6"
  }
 },
 "nbformat": 4,
 "nbformat_minor": 2
}
