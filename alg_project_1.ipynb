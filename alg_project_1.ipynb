{
 "cells": [
  {
   "cell_type": "code",
   "execution_count": 30,
   "metadata": {},
   "outputs": [],
   "source": [
    "import numpy as np\n",
    "import itertools\n",
    "from itertools import cycle, islice\n",
    "import operator"
   ]
  },
  {
   "cell_type": "code",
   "execution_count": 4,
   "metadata": {},
   "outputs": [],
   "source": [
    "def minimize(expr):\n",
    "    if '+' not in expr or '*' not in expr:\n",
    "        return eval(expr)\n",
    "    if len(expr)==1:\n",
    "        if expr.isdigit():\n",
    "            return int(expr)\n",
    "        else:\n",
    "            return \"Invalid symbol\"\n",
    "    res = np.inf\n",
    "    for i in range(len(expr) - 1):\n",
    "        if expr[i] == '+':\n",
    "            left = minimize(expr[:i])\n",
    "            right = minimize(expr[i + 1 :len(expr)])\n",
    "            res = min(res, left + right)\n",
    "        if expr[i] == '*':\n",
    "            left = minimize(expr[:i])\n",
    "            right = minimize(expr[i + 1 :len(expr)])\n",
    "            res = min(res, left * right)\n",
    "    return res"
   ]
  },
  {
   "cell_type": "code",
   "execution_count": 5,
   "metadata": {},
   "outputs": [
    {
     "data": {
      "text/plain": [
       "2"
      ]
     },
     "execution_count": 5,
     "metadata": {},
     "output_type": "execute_result"
    }
   ],
   "source": [
    "minimize(\"1*1+1\")"
   ]
  },
  {
   "cell_type": "code",
   "execution_count": 6,
   "metadata": {},
   "outputs": [],
   "source": [
    "#only * and +\n",
    "def maximize (expr):\n",
    "    if '+' not in expr or '*' not in expr:\n",
    "        return eval(expr)\n",
    "    if len(expr)==1:\n",
    "        if expr.isdigit():\n",
    "            return int(expr)\n",
    "        else:\n",
    "            return \"Invalid symbol\"\n",
    "    res = -1\n",
    "    for i in range(len(expr) - 1):\n",
    "        if expr[i] == '+':\n",
    "            left = maximize(expr[:i])\n",
    "            #print(\"left\", expr[:i])\n",
    "            #print(\"right\", expr[i + 1 :len(expr)])\n",
    "            right = maximize(expr[i + 1 :len(expr)])\n",
    "            res = max(res, left + right)\n",
    "        if expr[i] == '*':\n",
    "            #print(\"left\", expr[:i])\n",
    "            #print(\"right\", expr[i + 1 :len(expr)])\n",
    "            left = maximize(expr[:i])\n",
    "            right = maximize(expr[i + 1 :len(expr)])\n",
    "            res = max(res, left * right)\n",
    "    return res"
   ]
  },
  {
   "cell_type": "code",
   "execution_count": 7,
   "metadata": {},
   "outputs": [
    {
     "data": {
      "text/plain": [
       "4"
      ]
     },
     "execution_count": 7,
     "metadata": {},
     "output_type": "execute_result"
    }
   ],
   "source": [
    "maximize(\"1+1*1*2\")"
   ]
  },
  {
   "cell_type": "code",
   "execution_count": 8,
   "metadata": {},
   "outputs": [],
   "source": [
    "def put_operators(numbers, operators):\n",
    "    results = {}\n",
    "    symbols = numbers+operators\n",
    "    permutations = list(itertools.permutations(symbols))\n",
    "    for perm in permutations:\n",
    "        str_perm = ''.join(str(e) for e in perm)\n",
    "        try:\n",
    "            e = eval(str_perm)\n",
    "            results[str_perm] = maximize(str_perm)\n",
    "        except:\n",
    "            continue\n",
    "    max_key = max(results, key=lambda k: results[k])\n",
    "    return max_key, results[max_key]"
   ]
  },
  {
   "cell_type": "code",
   "execution_count": 9,
   "metadata": {},
   "outputs": [
    {
     "data": {
      "text/plain": [
       "('3**21', 10460353203)"
      ]
     },
     "execution_count": 9,
     "metadata": {},
     "output_type": "execute_result"
    }
   ],
   "source": [
    "put_operators([1, 2, 3], ['*', '*'])"
   ]
  },
  {
   "cell_type": "markdown",
   "metadata": {},
   "source": [
    "works only with given operators, ** considered by eval as normal - degree"
   ]
  },
  {
   "cell_type": "code",
   "execution_count": 10,
   "metadata": {},
   "outputs": [],
   "source": [
    "def put_operators2(numbers, operators):\n",
    "    oper_nr = len(numbers)-1\n",
    "    opers = list(itertools.product(operators, repeat=oper_nr))\n",
    "    return opers"
   ]
  },
  {
   "cell_type": "code",
   "execution_count": 11,
   "metadata": {},
   "outputs": [
    {
     "data": {
      "text/plain": [
       "[('*', '*', '*'),\n",
       " ('*', '*', '+'),\n",
       " ('*', '+', '*'),\n",
       " ('*', '+', '+'),\n",
       " ('+', '*', '*'),\n",
       " ('+', '*', '+'),\n",
       " ('+', '+', '*'),\n",
       " ('+', '+', '+')]"
      ]
     },
     "execution_count": 11,
     "metadata": {},
     "output_type": "execute_result"
    }
   ],
   "source": [
    "put_operators2([1, 2, 3, 4], ['*', '+'])"
   ]
  },
  {
   "cell_type": "code",
   "execution_count": 27,
   "metadata": {},
   "outputs": [],
   "source": [
    "def roundrobin(*iterables):\n",
    "    \"roundrobin('ABC', 'D', 'EF') --> A D E B F C\"\n",
    "    # Recipe credited to George Sakkis\n",
    "    num_active = len(iterables)\n",
    "    nexts = cycle(iter(it).__next__ for it in iterables)\n",
    "    while num_active:\n",
    "        try:\n",
    "            for next in nexts:\n",
    "                yield next()\n",
    "        except StopIteration:\n",
    "            # Remove the iterator we just exhausted from the cycle.\n",
    "            num_active -= 1\n",
    "            nexts = cycle(islice(nexts, num_active))"
   ]
  },
  {
   "cell_type": "code",
   "execution_count": 40,
   "metadata": {},
   "outputs": [],
   "source": [
    "def put_operators_final(numbers, operators):\n",
    "    results={}\n",
    "    opers = put_operators2(numbers, operators)\n",
    "    for oper in opers:\n",
    "        str_expr = ''.join(str(e) for e in roundrobin(numbers, oper))\n",
    "        results[str_expr] = maximize(str_expr)\n",
    "    max_key = max(results, key=lambda k: results[k])\n",
    "    print(results)\n",
    "    return max_key, results[max_key]"
   ]
  },
  {
   "cell_type": "code",
   "execution_count": 43,
   "metadata": {},
   "outputs": [
    {
     "name": "stdout",
     "output_type": "stream",
     "text": [
      "{'1*2*3*4*5': 120, '1*2*3*4+5': 54, '1*2*3+4*5': 70, '1*2*3+4+5': 24, '1*2+3*4*5': 100, '1*2+3*4+5': 45, '1*2+3+4*5': 45, '1*2+3+4+5': 14, '1+2*3*4*5': 180, '1+2*3*4+5': 81, '1+2*3+4*5': 105, '1+2*3+4+5': 36, '1+2+3*4*5': 120, '1+2+3*4+5': 54, '1+2+3+4*5': 50, '1+2+3+4+5': 15}\n"
     ]
    },
    {
     "data": {
      "text/plain": [
       "('1+2*3*4*5', 180)"
      ]
     },
     "execution_count": 43,
     "metadata": {},
     "output_type": "execute_result"
    }
   ],
   "source": [
    "put_operators_final([1, 2, 3, 4, 5], ['*', '+'])"
   ]
  },
  {
   "cell_type": "code",
   "execution_count": null,
   "metadata": {},
   "outputs": [],
   "source": []
  }
 ],
 "metadata": {
  "kernelspec": {
   "display_name": "Python 3",
   "language": "python",
   "name": "python3"
  },
  "language_info": {
   "codemirror_mode": {
    "name": "ipython",
    "version": 3
   },
   "file_extension": ".py",
   "mimetype": "text/x-python",
   "name": "python",
   "nbconvert_exporter": "python",
   "pygments_lexer": "ipython3",
   "version": "3.6.5"
  }
 },
 "nbformat": 4,
 "nbformat_minor": 2
}
